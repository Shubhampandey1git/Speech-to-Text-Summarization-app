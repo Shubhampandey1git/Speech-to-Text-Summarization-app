{
 "cells": [
  {
   "cell_type": "markdown",
   "id": "7a1f4e78",
   "metadata": {},
   "source": [
    "# **Data Cleaning and Preprocessing For Hindi**"
   ]
  },
  {
   "cell_type": "markdown",
   "id": "b4c3aa50",
   "metadata": {},
   "source": [
    "### **Imports**"
   ]
  },
  {
   "cell_type": "code",
   "execution_count": 29,
   "id": "85be168a",
   "metadata": {},
   "outputs": [
    {
     "name": "stderr",
     "output_type": "stream",
     "text": [
      "[nltk_data] Downloading package punkt to\n",
      "[nltk_data]     C:\\Users\\ADMIN\\AppData\\Roaming\\nltk_data...\n",
      "[nltk_data]   Package punkt is already up-to-date!\n"
     ]
    }
   ],
   "source": [
    "import pandas as pd\n",
    "import numpy as np\n",
    "import matplotlib.pyplot as plt\n",
    "import seaborn as sns\n",
    "from wordcloud import WordCloud\n",
    "import nltk\n",
    "from datasets import load_dataset\n",
    "nltk.download('punkt')\n",
    "import re\n",
    "import unicodedata"
   ]
  },
  {
   "cell_type": "markdown",
   "id": "bbfebbe0",
   "metadata": {},
   "source": [
    "### **Loading the Dataset**"
   ]
  },
  {
   "cell_type": "code",
   "execution_count": 30,
   "id": "a2162699",
   "metadata": {},
   "outputs": [
    {
     "data": {
      "text/html": [
       "<div>\n",
       "<style scoped>\n",
       "    .dataframe tbody tr th:only-of-type {\n",
       "        vertical-align: middle;\n",
       "    }\n",
       "\n",
       "    .dataframe tbody tr th {\n",
       "        vertical-align: top;\n",
       "    }\n",
       "\n",
       "    .dataframe thead th {\n",
       "        text-align: right;\n",
       "    }\n",
       "</style>\n",
       "<table border=\"1\" class=\"dataframe\">\n",
       "  <thead>\n",
       "    <tr style=\"text-align: right;\">\n",
       "      <th></th>\n",
       "      <th>headline</th>\n",
       "      <th>article</th>\n",
       "    </tr>\n",
       "  </thead>\n",
       "  <tbody>\n",
       "    <tr>\n",
       "      <th>0</th>\n",
       "      <td>EXCLUSIVE: दिल्ली में डीजल टैक्सियों पर बैन से...</td>\n",
       "      <td>दिल्ली में सुप्रीम कोर्ट के डीज़ल टैक्सियों को...</td>\n",
       "    </tr>\n",
       "    <tr>\n",
       "      <th>1</th>\n",
       "      <td>जॉर्डन: राष्ट्रपति मुखर्जी ने 86 करोड़ डॉलर के...</td>\n",
       "      <td>जॉर्डन के ऐतिहासिक दौरे पर पहुंचे राष्ट्रपति प...</td>\n",
       "    </tr>\n",
       "    <tr>\n",
       "      <th>2</th>\n",
       "      <td>UN में पाकिस्तान की राजदूत मलीहा लोधी ने कराई ...</td>\n",
       "      <td>पाकिस्तानी नेताओं को विवादित और हास्यास्पद बया...</td>\n",
       "    </tr>\n",
       "    <tr>\n",
       "      <th>3</th>\n",
       "      <td>38 देशों में पीएम नरेंद्र मोदी बायोपिक को रिली...</td>\n",
       "      <td>पीएम नरेंद्र मोदी बायोपिक में विवेक ओबेरॉय ने ...</td>\n",
       "    </tr>\n",
       "    <tr>\n",
       "      <th>4</th>\n",
       "      <td>13 अगस्त 2011: दिनभर की बड़ी खबरें पढ़ें</td>\n",
       "      <td>देश, दुनिया, महानगर, खेल, आर्थिक और बॉलीवुड मे...</td>\n",
       "    </tr>\n",
       "  </tbody>\n",
       "</table>\n",
       "</div>"
      ],
      "text/plain": [
       "                                            headline  \\\n",
       "0  EXCLUSIVE: दिल्ली में डीजल टैक्सियों पर बैन से...   \n",
       "1  जॉर्डन: राष्ट्रपति मुखर्जी ने 86 करोड़ डॉलर के...   \n",
       "2  UN में पाकिस्तान की राजदूत मलीहा लोधी ने कराई ...   \n",
       "3  38 देशों में पीएम नरेंद्र मोदी बायोपिक को रिली...   \n",
       "4           13 अगस्त 2011: दिनभर की बड़ी खबरें पढ़ें   \n",
       "\n",
       "                                             article  \n",
       "0  दिल्ली में सुप्रीम कोर्ट के डीज़ल टैक्सियों को...  \n",
       "1  जॉर्डन के ऐतिहासिक दौरे पर पहुंचे राष्ट्रपति प...  \n",
       "2  पाकिस्तानी नेताओं को विवादित और हास्यास्पद बया...  \n",
       "3  पीएम नरेंद्र मोदी बायोपिक में विवेक ओबेरॉय ने ...  \n",
       "4  देश, दुनिया, महानगर, खेल, आर्थिक और बॉलीवुड मे...  "
      ]
     },
     "metadata": {},
     "output_type": "display_data"
    },
    {
     "data": {
      "text/html": [
       "<div>\n",
       "<style scoped>\n",
       "    .dataframe tbody tr th:only-of-type {\n",
       "        vertical-align: middle;\n",
       "    }\n",
       "\n",
       "    .dataframe tbody tr th {\n",
       "        vertical-align: top;\n",
       "    }\n",
       "\n",
       "    .dataframe thead th {\n",
       "        text-align: right;\n",
       "    }\n",
       "</style>\n",
       "<table border=\"1\" class=\"dataframe\">\n",
       "  <thead>\n",
       "    <tr style=\"text-align: right;\">\n",
       "      <th></th>\n",
       "      <th>headline</th>\n",
       "      <th>article</th>\n",
       "    </tr>\n",
       "  </thead>\n",
       "  <tbody>\n",
       "    <tr>\n",
       "      <th>0</th>\n",
       "      <td>पठानकोट पहुंचे PM मोदी, एयरबेस का जायजा ले बॉर...</td>\n",
       "      <td>प्रधानमंत्री नरेंद्र मोदी पठानकोट एयरबेस पहुंच...</td>\n",
       "    </tr>\n",
       "    <tr>\n",
       "      <th>1</th>\n",
       "      <td>सचिन ने देशवासियों को समर्पित किया अपना दोहरा शतक</td>\n",
       "      <td>सचिन तेंदुलकर ने एकदिवसीय अंतरराष्ट्रीय क्रिके...</td>\n",
       "    </tr>\n",
       "    <tr>\n",
       "      <th>2</th>\n",
       "      <td>एनआईए करेगी छत्तीसगढ़ में सुरक्षा खामियों की ज...</td>\n",
       "      <td>केंद्रीय गृह राज्य मंत्री आर. पी. एन. सिंह ने ...</td>\n",
       "    </tr>\n",
       "    <tr>\n",
       "      <th>3</th>\n",
       "      <td>सीधी बात:  शाह बोले- हमारा बस चलता तो अब तक मं...</td>\n",
       "      <td>भारतीय जनता पार्टी (बीजेपी) के राष्ट्रीय अध्यक...</td>\n",
       "    </tr>\n",
       "    <tr>\n",
       "      <th>4</th>\n",
       "      <td>ऋषभ पंत के पास यूनिक टैलेंट, उसके साथ छेड़छाड़ न...</td>\n",
       "      <td>ऋषभ पंत की कभी कभार इस बात के लिए आलोचना की जा...</td>\n",
       "    </tr>\n",
       "  </tbody>\n",
       "</table>\n",
       "</div>"
      ],
      "text/plain": [
       "                                            headline  \\\n",
       "0  पठानकोट पहुंचे PM मोदी, एयरबेस का जायजा ले बॉर...   \n",
       "1  सचिन ने देशवासियों को समर्पित किया अपना दोहरा शतक   \n",
       "2  एनआईए करेगी छत्तीसगढ़ में सुरक्षा खामियों की ज...   \n",
       "3  सीधी बात:  शाह बोले- हमारा बस चलता तो अब तक मं...   \n",
       "4  ऋषभ पंत के पास यूनिक टैलेंट, उसके साथ छेड़छाड़ न...   \n",
       "\n",
       "                                             article  \n",
       "0  प्रधानमंत्री नरेंद्र मोदी पठानकोट एयरबेस पहुंच...  \n",
       "1  सचिन तेंदुलकर ने एकदिवसीय अंतरराष्ट्रीय क्रिके...  \n",
       "2  केंद्रीय गृह राज्य मंत्री आर. पी. एन. सिंह ने ...  \n",
       "3  भारतीय जनता पार्टी (बीजेपी) के राष्ट्रीय अध्यक...  \n",
       "4  ऋषभ पंत की कभी कभार इस बात के लिए आलोचना की जा...  "
      ]
     },
     "metadata": {},
     "output_type": "display_data"
    }
   ],
   "source": [
    "train_df = pd.read_csv(\"../data/original/Hindi_text_summ/train.csv\")\n",
    "test_df = pd.read_csv(\"../data/original/Hindi_text_summ/test.csv\")\n",
    "\n",
    "display(train_df.head())\n",
    "display(test_df.head())"
   ]
  },
  {
   "cell_type": "markdown",
   "id": "6f8c1712",
   "metadata": {},
   "source": [
    "### **Basic EDA**"
   ]
  },
  {
   "cell_type": "code",
   "execution_count": 31,
   "id": "11699544",
   "metadata": {},
   "outputs": [
    {
     "name": "stdout",
     "output_type": "stream",
     "text": [
      "headline    14\n",
      "article      0\n",
      "dtype: int64\n",
      "Duplicates: 63\n",
      "                                        headline  \\\n",
      "count                                     266593   \n",
      "unique                                    264681   \n",
      "top     Tech Wrap: यहां जानें आज की 5 बड़ी खबरें   \n",
      "freq                                         426   \n",
      "\n",
      "                                                  article  \n",
      "count                                              266607  \n",
      "unique                                             266508  \n",
      "top     हमारे साझेदार 'अनरियल टाइम्स' की खास व्यंग्यात...  \n",
      "freq                                                    5  \n"
     ]
    },
    {
     "data": {
      "text/html": [
       "<div>\n",
       "<style scoped>\n",
       "    .dataframe tbody tr th:only-of-type {\n",
       "        vertical-align: middle;\n",
       "    }\n",
       "\n",
       "    .dataframe tbody tr th {\n",
       "        vertical-align: top;\n",
       "    }\n",
       "\n",
       "    .dataframe thead th {\n",
       "        text-align: right;\n",
       "    }\n",
       "</style>\n",
       "<table border=\"1\" class=\"dataframe\">\n",
       "  <thead>\n",
       "    <tr style=\"text-align: right;\">\n",
       "      <th></th>\n",
       "      <th>headline_len</th>\n",
       "      <th>article_len</th>\n",
       "    </tr>\n",
       "  </thead>\n",
       "  <tbody>\n",
       "    <tr>\n",
       "      <th>count</th>\n",
       "      <td>266607.000000</td>\n",
       "      <td>266607.000000</td>\n",
       "    </tr>\n",
       "    <tr>\n",
       "      <th>mean</th>\n",
       "      <td>11.468607</td>\n",
       "      <td>367.662559</td>\n",
       "    </tr>\n",
       "    <tr>\n",
       "      <th>std</th>\n",
       "      <td>3.095791</td>\n",
       "      <td>344.351152</td>\n",
       "    </tr>\n",
       "    <tr>\n",
       "      <th>min</th>\n",
       "      <td>1.000000</td>\n",
       "      <td>1.000000</td>\n",
       "    </tr>\n",
       "    <tr>\n",
       "      <th>25%</th>\n",
       "      <td>9.000000</td>\n",
       "      <td>205.000000</td>\n",
       "    </tr>\n",
       "    <tr>\n",
       "      <th>50%</th>\n",
       "      <td>12.000000</td>\n",
       "      <td>298.000000</td>\n",
       "    </tr>\n",
       "    <tr>\n",
       "      <th>75%</th>\n",
       "      <td>14.000000</td>\n",
       "      <td>420.000000</td>\n",
       "    </tr>\n",
       "    <tr>\n",
       "      <th>max</th>\n",
       "      <td>226.000000</td>\n",
       "      <td>16335.000000</td>\n",
       "    </tr>\n",
       "  </tbody>\n",
       "</table>\n",
       "</div>"
      ],
      "text/plain": [
       "        headline_len    article_len\n",
       "count  266607.000000  266607.000000\n",
       "mean       11.468607     367.662559\n",
       "std         3.095791     344.351152\n",
       "min         1.000000       1.000000\n",
       "25%         9.000000     205.000000\n",
       "50%        12.000000     298.000000\n",
       "75%        14.000000     420.000000\n",
       "max       226.000000   16335.000000"
      ]
     },
     "execution_count": 31,
     "metadata": {},
     "output_type": "execute_result"
    }
   ],
   "source": [
    "# Check nulls and duplicates\n",
    "print(train_df.isnull().sum())\n",
    "print(\"Duplicates:\", train_df.duplicated().sum())\n",
    "\n",
    "# Basic stats\n",
    "print(train_df.describe(include='all'))\n",
    "\n",
    "# Check dialogue and summary length\n",
    "train_df[\"headline_len\"] = train_df[\"headline\"].apply(lambda x: len(str(x).split()))\n",
    "train_df[\"article_len\"] = train_df[\"article\"].apply(lambda x: len(str(x).split()))\n",
    "\n",
    "train_df[[\"headline_len\", \"article_len\"]].describe()"
   ]
  },
  {
   "cell_type": "markdown",
   "id": "4ce3bbe6",
   "metadata": {},
   "source": [
    "***Dialogue and Summary Lengths***"
   ]
  },
  {
   "cell_type": "code",
   "execution_count": 32,
   "id": "54d5e646",
   "metadata": {},
   "outputs": [
    {
     "data": {
      "image/png": "[encoded data removed]",
      "text/plain": [
       "<Figure size 1000x500 with 1 Axes>"
      ]
     },
     "metadata": {},
     "output_type": "display_data"
    }
   ],
   "source": [
    "plt.figure(figsize=(10,5))\n",
    "sns.histplot(train_df[\"headline_len\"], bins=40, color='skyblue', label='Dialogue length')\n",
    "sns.histplot(train_df[\"article_len\"], bins=40, color='salmon', label='Summary length')\n",
    "plt.legend()\n",
    "plt.title(\"Distribution of Dialogue vs Summary Length\")\n",
    "plt.xlabel(\"Number of Words\")\n",
    "plt.show()"
   ]
  },
  {
   "cell_type": "markdown",
   "id": "c826f44f",
   "metadata": {},
   "source": [
    "- Left Skewed"
   ]
  },
  {
   "cell_type": "markdown",
   "id": "23d283ca",
   "metadata": {},
   "source": [
    "***World Cloud Visualization***"
   ]
  },
  {
   "cell_type": "code",
   "execution_count": 33,
   "id": "a3bdfe2c",
   "metadata": {},
   "outputs": [
    {
     "data": {
      "image/png": "[encoded data removed]",
      "text/plain": [
       "<Figure size 1400x600 with 2 Axes>"
      ]
     },
     "metadata": {},
     "output_type": "display_data"
    }
   ],
   "source": [
    "dialogue_text = \" \".join(str(train_df[\"headline\"]))\n",
    "summary_text = \" \".join(str(train_df[\"article\"]))\n",
    "\n",
    "plt.figure(figsize=(14,6))\n",
    "plt.subplot(1,2,1)\n",
    "plt.imshow(WordCloud(width=800, height=400, background_color='white').generate(dialogue_text))\n",
    "plt.title(\"Most Common Words in Dialogues\")\n",
    "plt.axis(\"off\")\n",
    "\n",
    "plt.subplot(1,2,2)\n",
    "plt.imshow(WordCloud(width=800, height=400, background_color='white').generate(summary_text))\n",
    "plt.title(\"Most Common Words in Summaries\")\n",
    "plt.axis(\"off\")\n",
    "plt.show()"
   ]
  },
  {
   "cell_type": "markdown",
   "id": "5cb440b5",
   "metadata": {},
   "source": [
    "### **Text Cleaning**"
   ]
  },
  {
   "cell_type": "code",
   "execution_count": 34,
   "id": "5042b077",
   "metadata": {},
   "outputs": [
    {
     "data": {
      "text/html": [
       "<div>\n",
       "<style scoped>\n",
       "    .dataframe tbody tr th:only-of-type {\n",
       "        vertical-align: middle;\n",
       "    }\n",
       "\n",
       "    .dataframe tbody tr th {\n",
       "        vertical-align: top;\n",
       "    }\n",
       "\n",
       "    .dataframe thead th {\n",
       "        text-align: right;\n",
       "    }\n",
       "</style>\n",
       "<table border=\"1\" class=\"dataframe\">\n",
       "  <thead>\n",
       "    <tr style=\"text-align: right;\">\n",
       "      <th></th>\n",
       "      <th>headline</th>\n",
       "      <th>article</th>\n",
       "      <th>headline_len</th>\n",
       "      <th>article_len</th>\n",
       "      <th>clean_headline</th>\n",
       "      <th>clean_article</th>\n",
       "    </tr>\n",
       "  </thead>\n",
       "  <tbody>\n",
       "    <tr>\n",
       "      <th>0</th>\n",
       "      <td>EXCLUSIVE: दिल्ली में डीजल टैक्सियों पर बैन से...</td>\n",
       "      <td>दिल्ली में सुप्रीम कोर्ट के डीज़ल टैक्सियों को...</td>\n",
       "      <td>13</td>\n",
       "      <td>233</td>\n",
       "      <td>EXCLUSIVE दिल्ली में डीजल टैक्सियों पर बैन से ...</td>\n",
       "      <td>दिल्ली में सुप्रीम कोर्ट के डीज़ल टैक्सियों को...</td>\n",
       "    </tr>\n",
       "    <tr>\n",
       "      <th>1</th>\n",
       "      <td>जॉर्डन: राष्ट्रपति मुखर्जी ने 86 करोड़ डॉलर के...</td>\n",
       "      <td>जॉर्डन के ऐतिहासिक दौरे पर पहुंचे राष्ट्रपति प...</td>\n",
       "      <td>12</td>\n",
       "      <td>392</td>\n",
       "      <td>जॉर्डन राष्ट्रपति मुखर्जी ने करोड़ डॉलर के संय...</td>\n",
       "      <td>जॉर्डन के ऐतिहासिक दौरे पर पहुंचे राष्ट्रपति प...</td>\n",
       "    </tr>\n",
       "  </tbody>\n",
       "</table>\n",
       "</div>"
      ],
      "text/plain": [
       "                                            headline  \\\n",
       "0  EXCLUSIVE: दिल्ली में डीजल टैक्सियों पर बैन से...   \n",
       "1  जॉर्डन: राष्ट्रपति मुखर्जी ने 86 करोड़ डॉलर के...   \n",
       "\n",
       "                                             article  headline_len  \\\n",
       "0  दिल्ली में सुप्रीम कोर्ट के डीज़ल टैक्सियों को...            13   \n",
       "1  जॉर्डन के ऐतिहासिक दौरे पर पहुंचे राष्ट्रपति प...            12   \n",
       "\n",
       "   article_len                                     clean_headline  \\\n",
       "0          233  EXCLUSIVE दिल्ली में डीजल टैक्सियों पर बैन से ...   \n",
       "1          392  जॉर्डन राष्ट्रपति मुखर्जी ने करोड़ डॉलर के संय...   \n",
       "\n",
       "                                       clean_article  \n",
       "0  दिल्ली में सुप्रीम कोर्ट के डीज़ल टैक्सियों को...  \n",
       "1  जॉर्डन के ऐतिहासिक दौरे पर पहुंचे राष्ट्रपति प...  "
      ]
     },
     "execution_count": 34,
     "metadata": {},
     "output_type": "execute_result"
    }
   ],
   "source": [
    "def clean_hindi_mixed_text(text):\n",
    "    if not isinstance(text, str):\n",
    "        return \"\"\n",
    "\n",
    "    text = unicodedata.normalize('NFC', text)\n",
    "    text = re.sub(r\"http\\S+|www\\S+|@\\w+|#\\w+\", \" \", text)\n",
    "    text = re.sub(r\"[^\\u0900-\\u097Fa-zA-Z\\s]\", \" \", text)\n",
    "    text = re.sub(r\"\\s+\", \" \", text).strip()\n",
    "\n",
    "    return text\n",
    "\n",
    "\n",
    "train_df[\"clean_headline\"] = train_df[\"headline\"].apply(clean_hindi_mixed_text)\n",
    "train_df[\"clean_article\"] = train_df[\"article\"].apply(clean_hindi_mixed_text)\n",
    "train_df.head(2)"
   ]
  },
  {
   "cell_type": "markdown",
   "id": "467d7f29",
   "metadata": {},
   "source": [
    "***Token count After cleaning***"
   ]
  },
  {
   "cell_type": "code",
   "execution_count": 35,
   "id": "523203d2",
   "metadata": {},
   "outputs": [
    {
     "name": "stdout",
     "output_type": "stream",
     "text": [
      "       clean_headline_len  clean_article_len\n",
      "count       266607.000000      266607.000000\n",
      "mean            11.371866         362.007325\n",
      "std              3.075925         341.691557\n",
      "min              0.000000           1.000000\n",
      "25%              9.000000         203.000000\n",
      "50%             11.000000         293.000000\n",
      "75%             14.000000         412.000000\n",
      "max            222.000000       15998.000000\n"
     ]
    }
   ],
   "source": [
    "train_df[\"clean_headline_len\"] = train_df[\"clean_headline\"].apply(lambda x: len(x.split()))\n",
    "train_df[\"clean_article_len\"] = train_df[\"clean_article\"].apply(lambda x: len(x.split()))\n",
    "\n",
    "print(train_df[[\"clean_headline_len\", \"clean_article_len\"]].describe())"
   ]
  },
  {
   "cell_type": "markdown",
   "id": "58634c38",
   "metadata": {},
   "source": [
    "### **Removing Outliers**"
   ]
  },
  {
   "cell_type": "code",
   "execution_count": 36,
   "id": "ffe23361",
   "metadata": {},
   "outputs": [
    {
     "name": "stdout",
     "output_type": "stream",
     "text": [
      "Final usable Hindi samples: 263536\n"
     ]
    }
   ],
   "source": [
    "# Filter out empty or very short text\n",
    "train_df = train_df[train_df[\"clean_article_len\"] > 30]\n",
    "train_df = train_df[train_df[\"clean_headline_len\"] > 3]\n",
    "\n",
    "# Cap very long articles (to prevent memory overload during tokenization)\n",
    "train_df = train_df[train_df[\"clean_article_len\"] < 2000]\n",
    "\n",
    "# Reset index\n",
    "train_df = train_df.reset_index(drop=True)\n",
    "\n",
    "print(\"Final usable Hindi samples:\", len(train_df))"
   ]
  },
  {
   "cell_type": "markdown",
   "id": "d830a27b",
   "metadata": {},
   "source": [
    "### **Saving the Dataset**"
   ]
  },
  {
   "cell_type": "code",
   "execution_count": 37,
   "id": "e45b606b",
   "metadata": {},
   "outputs": [
    {
     "name": "stdout",
     "output_type": "stream",
     "text": [
      "Cleaned dataset saved at data/clean/Hindi_text_summ\n"
     ]
    }
   ],
   "source": [
    "train_df[[\"clean_headline\", \"clean_article\"]].to_csv(\"../data/clean/Hindi_text_summ/clean_Hinditxt_train.csv\", index=False)\n",
    "test_df.to_csv(\"../data/clean/Hindi_text_summ/clean_Hinditxt_test.csv\", index=False)\n",
    "\n",
    "print(\"Cleaned dataset saved at data/clean/Hindi_text_summ\")"
   ]
  },
  {
   "cell_type": "markdown",
   "id": "26e0fd07",
   "metadata": {},
   "source": [
    "# **Conclusion**"
   ]
  },
  {
   "cell_type": "markdown",
   "id": "36caa9c7",
   "metadata": {},
   "source": [
    "***EDA Summary:***\n",
    "\n",
    "    - The dataset contains ~260000 article-headline pairs.\n",
    "\n",
    "    - Average article length: ~362 words.\n",
    "\n",
    "    - Average headline length: ~11 words.\n",
    "\n",
    "    - Data is well-structured and mostly clean; minor normalization done.\n",
    "\n",
    "    - After preprocessing, extreme outliers removed, leaving balanced input for model training."
   ]
  }
 ],
 "metadata": {
  "kernelspec": {
   "display_name": "Virtual",
   "language": "python",
   "name": "python3"
  },
  "language_info": {
   "codemirror_mode": {
    "name": "ipython",
    "version": 3
   },
   "file_extension": ".py",
   "mimetype": "text/x-python",
   "name": "python",
   "nbconvert_exporter": "python",
   "pygments_lexer": "ipython3",
   "version": "3.10.9"
  }
 },
 "nbformat": 4,
 "nbformat_minor": 5
}
